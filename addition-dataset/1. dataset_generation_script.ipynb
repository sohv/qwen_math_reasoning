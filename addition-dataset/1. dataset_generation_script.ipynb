{
 "cells": [
  {
   "cell_type": "code",
   "execution_count": 1,
   "metadata": {},
   "outputs": [],
   "source": [
    "import ollama\n",
    "import json\n",
    "import random"
   ]
  },
  {
   "cell_type": "code",
   "execution_count": 2,
   "metadata": {},
   "outputs": [],
   "source": [
    "def generate_problem():\n",
    "    return [random.randint(10**4, 10**7-1) for _ in range(6)]"
   ]
  },
  {
   "cell_type": "code",
   "execution_count": 3,
   "metadata": {},
   "outputs": [],
   "source": [
    "def get_model_response(problem):\n",
    "    numbers_str = '+'.join(map(str, problem))\n",
    "    prompt = f\"\"\"{numbers_str}\n",
    "Format your final answer as <answer>1234567</answer>\"\"\"\n",
    "\n",
    "    response = ollama.chat(\n",
    "        model='deepseek-r1:1.5b',\n",
    "        messages=[{\n",
    "            'role': 'user',\n",
    "            'content': prompt\n",
    "        }]\n",
    "    )\n",
    "    \n",
    "    return response['message']['content']\n"
   ]
  },
  {
   "cell_type": "code",
   "execution_count": 5,
   "metadata": {},
   "outputs": [],
   "source": [
    "dataset = []\n",
    "mistake_count = 0\n",
    "total_count = 0\n",
    "\n",
    "\n",
    "for _ in range(100):  # Number of problems\n",
    "    total_count += 1\n",
    "    numbers = generate_problem()\n",
    "    response = get_model_response(numbers)\n",
    "    \n",
    "    # Extract thought and generated answer\n",
    "    # thought = extract_thought(response)\n",
    "    # generated_answer = extract_answer(response)\n",
    "    \n",
    "    # # Calculate actual answer\n",
    "    # actual_answer = sum(numbers)\n",
    "    \n",
    "    # Check if there's a mistake\n",
    "    # is_mistake = False\n",
    "    # if generated_answer is None or generated_answer != actual_answer:\n",
    "    #     is_mistake = True\n",
    "    #     mistake_count += 1\n",
    "    \n",
    "    dataset.append({\n",
    "        \"numbers\": numbers,\n",
    "        \"response\": response,\n",
    "        # \"thought\": thought,\n",
    "        # \"generated_answer\": generated_answer,\n",
    "        # \"actual_answer\": actual_answer,\n",
    "        # \"mistake\": is_mistake\n",
    "    })"
   ]
  },
  {
   "cell_type": "code",
   "execution_count": 6,
   "metadata": {},
   "outputs": [],
   "source": [
    "with open('additions_r1half-4.json', 'w') as f:\n",
    "    json.dump(dataset, f, indent=2)"
   ]
  }
 ],
 "metadata": {
  "kernelspec": {
   "display_name": "venv",
   "language": "python",
   "name": "python3"
  },
  "language_info": {
   "codemirror_mode": {
    "name": "ipython",
    "version": 3
   },
   "file_extension": ".py",
   "mimetype": "text/x-python",
   "name": "python",
   "nbconvert_exporter": "python",
   "pygments_lexer": "ipython3",
   "version": "3.12.4"
  }
 },
 "nbformat": 4,
 "nbformat_minor": 2
}
